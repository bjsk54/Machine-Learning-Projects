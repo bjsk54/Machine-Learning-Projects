{
 "cells": [
  {
   "cell_type": "markdown",
   "metadata": {},
   "source": [
    "## Logistic regression using Deep Learning\n",
    "### (Data is well structured and cleaned)"
   ]
  },
  {
   "cell_type": "markdown",
   "metadata": {},
   "source": [
    "     Reading Dataset stored in HDF5 format"
   ]
  },
  {
   "cell_type": "code",
   "execution_count": 217,
   "metadata": {},
   "outputs": [],
   "source": [
    "import numpy as np\n",
    "import h5py\n",
    "import matplotlib.pyplot as plt"
   ]
  },
  {
   "cell_type": "code",
   "execution_count": 218,
   "metadata": {},
   "outputs": [],
   "source": [
    "hf = h5py.File('//Users//jesuis_monty//Downloads//train_catvnoncat.h5', 'r')\n",
    "hf1 = h5py.File('//Users//jesuis_monty//Downloads//test_catvnoncat.h5', 'r')"
   ]
  },
  {
   "cell_type": "code",
   "execution_count": 219,
   "metadata": {},
   "outputs": [
    {
     "name": "stdout",
     "output_type": "stream",
     "text": [
      "<KeysViewHDF5 ['list_classes', 'train_set_x', 'train_set_y']><KeysViewHDF5 ['list_classes', 'test_set_x', 'test_set_y']>\n"
     ]
    }
   ],
   "source": [
    "print(str(hf.keys()) +  str(hf1.keys()))"
   ]
  },
  {
   "cell_type": "code",
   "execution_count": 220,
   "metadata": {},
   "outputs": [],
   "source": [
    "train_x,train_y =hf.get('train_set_x'),hf.get('train_set_y')\n",
    "test_x,test_y = hf1.get('test_set_x'),hf1.get('test_set_y')\n"
   ]
  },
  {
   "cell_type": "code",
   "execution_count": 221,
   "metadata": {},
   "outputs": [],
   "source": [
    "train_x,train_y,test_x,test_y = np.array(train_x),np.array(train_y),np.array(test_x),np.array(test_y)"
   ]
  },
  {
   "cell_type": "code",
   "execution_count": 222,
   "metadata": {},
   "outputs": [
    {
     "data": {
      "text/plain": [
       "(None, None)"
      ]
     },
     "execution_count": 222,
     "metadata": {},
     "output_type": "execute_result"
    }
   ],
   "source": [
    "hf.close(),hf1.close()"
   ]
  },
  {
   "cell_type": "markdown",
   "metadata": {},
   "source": [
    "### Data Exploration"
   ]
  },
  {
   "cell_type": "code",
   "execution_count": 223,
   "metadata": {},
   "outputs": [
    {
     "name": "stdout",
     "output_type": "stream",
     "text": [
      "No. of training examples: 209\n",
      "Size of Training set: (209,64,64,3)\n",
      "No. of testing examples: 50\n",
      "train_x shape: (209, 64, 64, 3)\n",
      "train_y shape: (1, 209)\n",
      "test_x shape: (50, 64, 64, 3)\n",
      "test_y shape: (1, 50)\n"
     ]
    }
   ],
   "source": [
    "m_train = train_x.shape[0]\n",
    "num_px = train_x.shape[1]\n",
    "m_test = test_x.shape[0]\n",
    "train_y = train_y.reshape(1,train_y.shape[0])\n",
    "test_y = test_y.reshape(1,test_y.shape[0])\n",
    "print(\"No. of training examples: \"+ str(m_train))\n",
    "print(\"Size of Training set: (\" + str(m_train)+\",\"+str(num_px)+\",\"+str(num_px)+\",\"+\"3)\")\n",
    "print(\"No. of testing examples: \" + str(m_test))\n",
    "print (\"train_x shape: \" + str(train_x.shape))\n",
    "print (\"train_y shape: \" + str(train_y.shape))\n",
    "print (\"test_x shape: \" + str(test_x.shape))\n",
    "print (\"test_y shape: \" + str(test_y.shape))\n"
   ]
  },
  {
   "cell_type": "code",
   "execution_count": 224,
   "metadata": {},
   "outputs": [
    {
     "data": {
      "text/plain": [
       "<matplotlib.image.AxesImage at 0x12bfbceb0>"
      ]
     },
     "execution_count": 224,
     "metadata": {},
     "output_type": "execute_result"
    },
    {
     "data": {
      "image/png": "[encoded data removed]",
      "text/plain": [
       "<Figure size 432x288 with 1 Axes>"
      ]
     },
     "metadata": {
      "needs_background": "light"
     },
     "output_type": "display_data"
    }
   ],
   "source": [
    "index = 56\n",
    "plt.imshow(train_x[index])"
   ]
  },
  {
   "cell_type": "markdown",
   "metadata": {},
   "source": [
    "### Data Preparation for Neural nets model\n",
    "        - To make computation faster for NN, Normalization is done\n",
    "        - Normalization center the mean of data and make variance constrain to (-1 to 1)\n",
    "        - Normalize_x = (mean(x) - x)/std(x)\n",
    "        - Standardize is also use to center the data but normalization is more beneficial.\n",
    "        - Normalize helps gradient descent algorithm to update weights more symmetrically.\n",
    "        - For example if one feature has higher value then weight is updated accordingly\n",
    "        - Makes other parameter in our case b smaller and make the cost function elongated.\n",
    "        - thus grad function descent slowly and in zig zag manner.\n",
    "        - Normalization makes the gradient descent smoothly and straight to local optima instead goin here n there."
   ]
  },
  {
   "cell_type": "code",
   "execution_count": 235,
   "metadata": {},
   "outputs": [
    {
     "name": "stdout",
     "output_type": "stream",
     "text": [
      "Trianing set shape: (12288, 209)  Testing set shape: (12288, 50)\n"
     ]
    }
   ],
   "source": [
    "# Standardizing data & flatten the shape for implementing vectorization\n",
    "\n",
    "train_x_vec = train_x.reshape(train_x.shape[0],-1).T\n",
    "test_x_vec = test_x.reshape(test_x.shape[0],-1).T   # shaping for vectorization\n",
    "\n",
    "#train_x_vec,test_x_vec = train_x_vec/255,test_x_vec/255 # standardize\n",
    "\n",
    "# Rather Normalizing the set is more beneficial than standardizing\n",
    "\n",
    "train_x_vec = (train_x_vec - np.mean(train_x_vec,axis=0,keepdims =True))/np.std(train_x_vec,axis=0,keepdims=True)\n",
    "test_x_vec = (test_x_vec - np.mean(test_x_vec,axis=0,keepdims =True))/np.std(test_x_vec,axis=0,keepdims=True)\n",
    "\n",
    "print(\"Trianing set shape: \"+str(train_x_vec.shape)+\"  \"+ \"Testing set shape: \" + str(test_x_vec.shape))\n"
   ]
  },
  {
   "cell_type": "markdown",
   "metadata": {},
   "source": [
    "## Building my first neural network (Logistic regression implementation)\n",
    "### Steps to build\n",
    "        1 - Initialize the parameters: \n",
    "            - Initializing parameter is really an important factor to consider during deep learning.\n",
    "            - Making parameter large or small makes gradient vanish/exploding problem.\n",
    "            - Different initialization are Zero, Random, he, xavier etc.\n",
    "            - Initializing makes difference when you are making deep neural network generally more than 2 layers.\n",
    "        2 - forward propagation:\n",
    "            - Added the different activation function for hidden layer : Relu & tanh\n",
    "            \n",
    "        3 - compute cost\n",
    "        4 - Backward propagation:\n",
    "            - Wrt to Relu activation & tanh activation. \n",
    "            \n",
    "        5 - optimize value (gradient descent)\n",
    "        6 - Predict using the optimized parameter:\n",
    "     \n",
    "     # Regularization is also add to cope with overfitting of data.\n",
    "    \n",
    "        "
   ]
  },
  {
   "cell_type": "markdown",
   "metadata": {},
   "source": [
    "## Helper Functions"
   ]
  },
  {
   "cell_type": "code",
   "execution_count": 245,
   "metadata": {},
   "outputs": [],
   "source": [
    "# creating Helper function that can use in Main model implementation\n",
    "\n",
    "# initalize parameter\n",
    "def initialize_parameter(layer_dim,initialization):\n",
    "    np.random.seed(1)\n",
    "    l = len(layer_dim)\n",
    "    parameters = {}  # dictionary to store values of parameter of each layer\n",
    "    if(initialization==\"zero\"):\n",
    "        for i in range(1,l):\n",
    "            parameters['W'+ str(i)] = np.zeros((layer_dim[i],layer_dim[i-1])) #Zero initialization\n",
    "            parameters['b' + str(i)] = np.zeros((layer_dim[i],1))\n",
    "    if(initialization == \"random\"):    \n",
    "        for i in range(1,l):\n",
    "            parameters['W'+ str(i)] = np.random.randn(layer_dim[i],layer_dim[i-1])*0.1 # Random initialization \n",
    "            parameters['b' + str(i)] = np.zeros((layer_dim[i],1))\n",
    "    if(initialization == \"he\"):\n",
    "        for i in range(1,l):\n",
    "            parameters['W'+ str(i)] = np.random.randn(layer_dim[i],layer_dim[i-1])*np.sqrt(2/layer_dim[i-1]) # 'He' initialization\n",
    "            parameters['b' + str(i)] = np.zeros((layer_dim[i],1))\n",
    "        \n",
    "\n",
    "    return parameters\n",
    "\n",
    "# Forward propagation function\n",
    "def forward_prop(X,parameters,activation):\n",
    "    A = X\n",
    "    A_prev = A\n",
    "    cache = ()       # tuple that stores current layer calculated values\n",
    "    caches = []      # list that stores every layer forward propagation values Z,W,b,A that stores in tuple 'cache'\n",
    "    L = len(parameters) // 2 # number of layers\n",
    "\n",
    "    \n",
    "    # Hidden layer activation calculation based on selected activation:\n",
    "    for l in range(L-1):            #looping does not include last layer(output layer)\n",
    "        W = parameters['W'+str(l+1)]\n",
    "        b = parameters['b'+str(l+1)]\n",
    "        Z = np.dot(W,A_prev) + b  \n",
    "        if(activation == \"sigmoid\"):\n",
    "            A = 1/(1+np.exp(-Z))\n",
    "        if(activation == \"tanh\"):\n",
    "            A = (np.exp(Z)-np.exp(-Z))/(np.exp(Z)+np.exp(-Z))\n",
    "        if(activation == \"relu\"):\n",
    "            A = np.maximum(0,Z)\n",
    "        \n",
    "        assert(Z.shape == (W.shape[0],X.shape[1]))  # shape of matrix Z should be (hidden_node,training exp)\n",
    "        assert(A.shape == Z.shape)\n",
    "        cache = (A,W,Z,b)\n",
    "        caches.append(cache)   #store each layer calculated values in list, which will be accessed during Back prop\n",
    "        A_prev = A\n",
    "\n",
    "    \n",
    "    # Output layer 'sigmoid' Activation calculation:\n",
    "    W = parameters['W'+str(L)]\n",
    "    b = parameters['b'+str(L)]\n",
    "    Z = np.dot(W,A_prev) + b\n",
    "    A = 1/(1+np.exp(-Z))\n",
    "    assert(Z.shape == (W.shape[0],X.shape[1]))\n",
    "    cache = (A,W,Z,b)   # Assign tuple to current layer values\n",
    "    caches.append(cache)\n",
    "    \n",
    "    \n",
    "    return caches\n",
    "\n",
    "\n",
    "# Computation of cost function & adding regularization to provide overfitting:\n",
    "def compute_cost(AL,Y,parameters,lambd):         \n",
    "    sum_forbenius_norm = 0\n",
    "    m = Y.shape[1]\n",
    "    L = len(parameters) // 2 # number of layers\n",
    "    if(lambd != 0):\n",
    "        for l in range(L):\n",
    "            W = parameters['W'+str(l+1)]\n",
    "            sum_forbenius_norm = sum_forbenius_norm * np.sum(np.square(W))\n",
    "           \n",
    "        L2_cost = (lambd * sum_forbenius_norm)/(2 * m)    \n",
    "        cost_forward = -(np.dot(Y,np.log(AL.T)) + np.dot(1-Y,np.log((1-AL).T)))/m\n",
    "        cost = cost_forward + L2_cost\n",
    "    else:\n",
    "        cost = -(np.dot(Y,np.log(AL.T)) + np.dot((1-Y),np.log((1-AL).T)))/m\n",
    "        \n",
    "    return cost\n",
    "\n",
    "# Backward Propagation\n",
    "def back_prop(X,Y,caches,lambd,activation):\n",
    "    grad = {}\n",
    "    m = Y.shape[1]\n",
    "    L = len(caches)         # No. of layers\n",
    "    AL = caches[L-1][0]     # Activation function of output layer.\n",
    "    dAL = -(np.divide(Y,AL) - np.divide(1-Y,1-AL))\n",
    "    assert (dAL.shape == AL.shape)\n",
    "    \n",
    "    # Output Layer is Sigmoid Activated: Gradient of sigmoid function is calculated\n",
    "    W = caches[L-1][1]\n",
    "    b = caches[L-1][3]\n",
    "    Z = caches[L-1][2]\n",
    "    A_prev = caches[L-2][0]  # gradient of W requires previous layer Activation function\n",
    "    part_derv = AL * (1-AL)  # Gradient of sigmoid activation function sigmoid(x) = x(1-x)\n",
    "    dZ = np.multiply(dAL,part_derv) # dZ = g[L]'(Z[L]) * dAL\n",
    "    grad['db' + str(L)] = (1./m) * np.sum(dZ,axis=1,keepdims =True)\n",
    "    grad['dW' + str(L)] = (1./m * (np.dot(dZ,A_prev.T))) + np.multiply((lambd/m),W)\n",
    "    dAL = np.dot(W.T,dZ)        # Output of Backprop dAL-1\n",
    "    assert (dZ.shape == Z.shape)\n",
    "    assert (grad['dW' + str(L)].shape == W.shape)\n",
    "    assert (grad['db' + str(L)].shape == b.shape)\n",
    "        \n",
    "        \n",
    "        \n",
    "    # Hidden Layer Gradient calculation based on selected activation \n",
    "    for l in reversed(range(L-1)):\n",
    "        AL = caches[l][0]                 # Current layer activation value\n",
    "        W = caches[l][1]\n",
    "        b = caches[l][3]\n",
    "        Z = caches[l][2]\n",
    "        \n",
    "        if activation == \"sigmoid\":\n",
    "            part_derv = np.multiply(AL,1-AL)     # part_derv = dAL/dZ\n",
    "        elif activation == \"tanh\":\n",
    "            part_derv = 1-np.power(AL,2)\n",
    "        elif activation == \"relu\":\n",
    "            part_derv = np.int64(AL > 0)\n",
    "            \n",
    "        if(l!=0): \n",
    "            A_prev = caches[l-1][0] # previous layer activation value\n",
    "        else: \n",
    "            A_prev = X     \n",
    "          \n",
    "        dZ = np.multiply(dAL,part_derv)\n",
    "        assert (dZ.shape == Z.shape)\n",
    "        grad['db' + str(l+1)] = 1./m * np.sum(dZ,axis=1,keepdims =True)\n",
    "        grad['dW' + str(l+1)] = (1./m * np.dot(dZ,A_prev.T))  + np.multiply((lambd/m),W)\n",
    "        assert (grad['dW' + str(l+1)].shape == W.shape)\n",
    "        assert (grad['db' + str(l+1)].shape == b.shape)\n",
    "        dAL = np.dot(W.T,dZ)\n",
    "        assert (dAL.shape == A_prev.shape)\n",
    "        \n",
    "    return grad \n",
    "\n",
    "# update parameter\n",
    "def update_parm(learning_rate,parameters,grad):\n",
    "    L = len(grad)//2\n",
    "    for l in range(L):\n",
    "        parameters['W'+str(l+1)] = parameters['W'+str(l+1)] - learning_rate * grad['dW'+str(l+1)]\n",
    "        parameters['b'+str(l+1)] = parameters['b'+str(l+1)] - learning_rate * grad['db'+str(l+1)]\n",
    "           \n",
    "    return parameters\n",
    "\n",
    "# prediction\n",
    "\n",
    "def predict(parameters,X,activation):\n",
    "    cache = forward_prop(X,parameters,activation)\n",
    "    AL = cache[len(cache)-1][0]\n",
    "    prediction = (AL>0.5)\n",
    "    \n",
    "    return prediction"
   ]
  },
  {
   "cell_type": "markdown",
   "metadata": {},
   "source": [
    "## Gradient Check "
   ]
  },
  {
   "cell_type": "code",
   "execution_count": 237,
   "metadata": {},
   "outputs": [],
   "source": [
    "def dictionary_to_vector(x):\n",
    "    # x -- Dictionary that you want to convert\n",
    "    result =[]\n",
    "    for key in x:\n",
    "        temp = x[key].reshape(-1,1).tolist()\n",
    "        result = result + temp\n",
    "        \n",
    "    result = np.array(result)\n",
    "    return result\n",
    "\n",
    "\n",
    "def vector_to_dict(x,y,type):\n",
    "    # x -- Vector\n",
    "    # y -- dict to convert back into, to get the key to map with vector value.\n",
    "    dic = {}\n",
    "    l = len(y)//2\n",
    "    w_count_prev = 0\n",
    "    b_count_prev = 0\n",
    "    for i in range(l):\n",
    "        if(type == 'parameters'):\n",
    "            typ_W,typ_b = 'W','b'\n",
    "        else:\n",
    "            typ_W,typ_b = 'dW','db'\n",
    "            \n",
    "        W_count = y[typ_W +str(i+1)].shape[0] * y[typ_W+str(i+1)].shape[1]\n",
    "        b_count = y[typ_b +str(i+1)].shape[0] * y[typ_b+str(i+1)].shape[1]\n",
    "    \n",
    "        dic[typ_W +str(i+1)] = x[w_count_prev:W_count+w_count_prev].reshape(y[typ_W+str(i+1)].shape[0],y[typ_W+str(i+1)].shape[1])\n",
    "        dic[typ_b +str(i+1)] = x[W_count+w_count_prev:W_count+w_count_prev+b_count].reshape(y[typ_b+str(i+1)].shape[0],1)\n",
    "        w_count_prev = W_count+w_count_prev+b_count\n",
    "        \n",
    "    return dic    \n",
    "    "
   ]
  },
  {
   "cell_type": "code",
   "execution_count": 238,
   "metadata": {},
   "outputs": [],
   "source": [
    "def gradient_check(parameters,grad,epsilon,X,Y):\n",
    "    parameter_values = dictionary_to_vector(parameters)\n",
    "    grad_values = dictionary_to_vector(grad)\n",
    "    num_parameters = parameter_values.shape[0]\n",
    "    J_plus = np.zeros((num_parameters, 1))\n",
    "    J_minus = np.zeros((num_parameters, 1))\n",
    "    gradapprox = np.zeros((num_parameters, 1))\n",
    "\n",
    "    for i in range(num_parameters):\n",
    "        thetaplus = np.copy(parameter_values)\n",
    "\n",
    "        thetaplus[i][0] = thetaplus[i][0] + epsilon\n",
    "\n",
    "        cache= forward_prop(X,vector_to_dict(thetaplus,parameters,'parameters'),\"relu\")\n",
    "        AL = cache[len(cache)-1][0]\n",
    "        cost = compute_cost(AL,Y,parameters,0)\n",
    "        J_plus[i][0] = cost\n",
    "        thetaminus = np.copy(parameter_values)                                    \n",
    "        thetaminus[i][0] =  thetaminus[i][0] - epsilon                                     \n",
    "        cache= forward_prop(X,vector_to_dict(thetaminus,parameters,'parameters'),\"relu\")\n",
    "        AL = cache[len(cache)-1][0]\n",
    "        cost = compute_cost(AL,Y,parameters,0)\n",
    "        J_minus[i][0] = cost\n",
    "        gradapprox[i] = (J_plus[i] - J_minus[i]) / (2 * epsilon)\n",
    "\n",
    "    print(J_plus)\n",
    "    numerator =  np.linalg.norm(grad_values-gradapprox)\n",
    "    denominator = np.linalg.norm(grad_values) + np.linalg.norm(gradapprox)\n",
    "    difference = numerator/denominator\n",
    "\n",
    "    if difference > (2 * epsilon):\n",
    "        print (\"\\033[93m\" + \"There is a mistake in the backward propagation! difference = \" + str(difference) + \"\\033[0m\")\n",
    "    else:\n",
    "        print (\"\\033[92m\" + \"Your backward propagation works perfectly fine! difference = \" + str(difference) + \"\\033[0m\")\n",
    "    "
   ]
  },
  {
   "cell_type": "code",
   "execution_count": 239,
   "metadata": {},
   "outputs": [],
   "source": [
    "# Main model\n",
    "def LR_NN(X,Y,layered_dim,learning_rate,iteration,initialization,lambd,activation):\n",
    "    np.random.seed(1)\n",
    "    parm = initialize_parameter(layered_dim,initialization)\n",
    "    costs = []\n",
    "    # Gradient Descent\n",
    "    for i in range(iteration):\n",
    "        caches_layerwise = forward_prop(X,parm,activation)\n",
    "        AL = caches_layerwise[len(caches_layerwise)-1][0]\n",
    "        cost = compute_cost(AL,Y,parm,lambd)\n",
    "        if(i%100==0): \n",
    "            print(\" Cost after \"+ str(i)+\" iterations: \"+ str(cost))\n",
    "            costs.append(cost)\n",
    "        grad_layerwise = back_prop(X,Y,caches_layerwise,lambd,activation)\n",
    "        parm = update_parm(learning_rate,parm,grad_layerwise)     # update parm\n",
    "           \n",
    "    plt.plot(np.squeeze(costs))\n",
    "    plt.ylabel('cost')\n",
    "    plt.xlabel('iterations (per hundreds)')\n",
    "    plt.title(\"Learning rate =\" + str(learning_rate))\n",
    "    plt.show()\n",
    "\n",
    "    predictions = predict(parm,X,activation)\n",
    "    accuracy = float((np.dot(Y,predictions.T) + np.dot(1-Y,1-predictions.T))/float(Y.size)*100)\n",
    "    print (\"Accuracy for {} Layered NN: {} %\".format(len(layered_dim)-1, accuracy))\n",
    "    \n",
    "    return parm,accuracy,predictions  "
   ]
  },
  {
   "cell_type": "code",
   "execution_count": 254,
   "metadata": {},
   "outputs": [
    {
     "name": "stdout",
     "output_type": "stream",
     "text": [
      " Cost after 0 iterations: [[1.78474496]]\n",
      " Cost after 100 iterations: [[0.38789333]]\n",
      " Cost after 200 iterations: [[0.31534427]]\n",
      " Cost after 300 iterations: [[0.26058688]]\n",
      " Cost after 400 iterations: [[0.21593243]]\n",
      " Cost after 500 iterations: [[0.18165039]]\n",
      " Cost after 600 iterations: [[0.15354375]]\n",
      " Cost after 700 iterations: [[0.13114907]]\n",
      " Cost after 800 iterations: [[0.11193419]]\n",
      " Cost after 900 iterations: [[0.09616575]]\n",
      " Cost after 1000 iterations: [[0.08420713]]\n",
      " Cost after 1100 iterations: [[0.07270859]]\n",
      " Cost after 1200 iterations: [[0.06523133]]\n",
      " Cost after 1300 iterations: [[0.05692419]]\n",
      " Cost after 1400 iterations: [[0.05111214]]\n",
      " Cost after 1500 iterations: [[0.04523744]]\n",
      " Cost after 1600 iterations: [[0.04095655]]\n",
      " Cost after 1700 iterations: [[0.03715982]]\n",
      " Cost after 1800 iterations: [[0.03377132]]\n",
      " Cost after 1900 iterations: [[0.03112547]]\n",
      " Cost after 2000 iterations: [[0.02870964]]\n",
      " Cost after 2100 iterations: [[0.02682567]]\n",
      " Cost after 2200 iterations: [[0.02471232]]\n",
      " Cost after 2300 iterations: [[0.02305644]]\n",
      " Cost after 2400 iterations: [[0.0215045]]\n",
      " Cost after 2500 iterations: [[0.02019834]]\n",
      " Cost after 2600 iterations: [[0.01915688]]\n",
      " Cost after 2700 iterations: [[0.01792518]]\n",
      " Cost after 2800 iterations: [[0.01697221]]\n",
      " Cost after 2900 iterations: [[0.01612191]]\n"
     ]
    },
    {
     "data": {
      "image/png": "[encoded data removed]",
      "text/plain": [
       "<Figure size 432x288 with 1 Axes>"
      ]
     },
     "metadata": {
      "needs_background": "light"
     },
     "output_type": "display_data"
    },
    {
     "name": "stdout",
     "output_type": "stream",
     "text": [
      "Accuracy for 4 Layered NN: 100.0 %\n"
     ]
    }
   ],
   "source": [
    "n = [12288, 20, 7, 5, 1] # layer dimension\n",
    "parm,train_accuracy,predict_y = LR_NN(train_x_vec,train_y,n,0.0075,3000,\"he\",0.4,\"relu\")"
   ]
  },
  {
   "cell_type": "code",
   "execution_count": 255,
   "metadata": {},
   "outputs": [
    {
     "name": "stdout",
     "output_type": "stream",
     "text": [
      "Train Set Accuracy for 4 Layered NN: 100.0 %\n",
      "Test Set Accuracy for 4 Layered NN: 72.0 %\n"
     ]
    }
   ],
   "source": [
    "# Test_set accuracy\n",
    "predictions = predict(parm,test_x_vec,\"relu\")\n",
    "\n",
    "accuracy = float((np.dot(test_y,predictions.T) + np.dot(1-test_y,1-predictions.T))/float(test_y.size)*100)\n",
    "print (\"Train Set Accuracy for {} Layered NN: {} %\".format(len(n)-1, train_accuracy))\n",
    "print (\"Test Set Accuracy for {} Layered NN: {} %\".format(len(n)-1, accuracy))"
   ]
  },
  {
   "cell_type": "code",
   "execution_count": null,
   "metadata": {},
   "outputs": [],
   "source": []
  },
  {
   "cell_type": "code",
   "execution_count": null,
   "metadata": {},
   "outputs": [],
   "source": []
  }
 ],
 "metadata": {
  "kernelspec": {
   "display_name": "macos_environment",
   "language": "python",
   "name": "macos_environment"
  },
  "language_info": {
   "codemirror_mode": {
    "name": "ipython",
    "version": 3
   },
   "file_extension": ".py",
   "mimetype": "text/x-python",
   "name": "python",
   "nbconvert_exporter": "python",
   "pygments_lexer": "ipython3",
   "version": "3.8.2"
  }
 },
 "nbformat": 4,
 "nbformat_minor": 4
}

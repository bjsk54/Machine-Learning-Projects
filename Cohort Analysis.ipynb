{
 "cells": [
  {
   "cell_type": "markdown",
   "metadata": {},
   "source": [
    "## Cohort Analysis: Customer Retention "
   ]
  },
  {
   "cell_type": "code",
   "execution_count": 3,
   "metadata": {},
   "outputs": [],
   "source": [
    "import pandas as pd\n",
    "import numpy as np"
   ]
  },
  {
   "cell_type": "code",
   "execution_count": 345,
   "metadata": {},
   "outputs": [],
   "source": [
    "def repeat_buying(data,month_char):\n",
    "    df = data.copy()\n",
    "    del df['order_id']\n",
    "    df['processed_at'] = df['processed_at'].astype(str).str[:7]\n",
    "    t = np.arange(month_char, 5, dtype='datetime64[M]').astype(str)\n",
    "    y0 = df[df['processed_at'].str.contains(t[0])]\n",
    "    new_customer = y0[~y0['customer_id'].isin(np.array(df.iloc[0:y0.index[0],0]))]\n",
    "    n_t = len(new_customer['customer_id'])\n",
    "    n_0 = n_t - len(new_customer['customer_id'].unique())\n",
    "    \n",
    "    #### --- 1st month ----\n",
    "    y1 = df[df['processed_at'].str.contains(t[1])]\n",
    "    repeat_customer = df[df.iloc[y1.index[0]:y1.index[-1],:].isin(np.array(new_customer['customer_id']))]\n",
    "    repeat_customer_1 = repeat_customer['customer_id'].dropna().unique()\n",
    "    n_1 = len(repeat_customer['customer_id'].dropna()) + n_0\n",
    "    c_n_1 = len(repeat_customer_1)\n",
    "    \n",
    "    ### ---- 2nd month -----\n",
    "    y2 = df[df['processed_at'].str.contains(t[2])]\n",
    "    repeat_customer = df[df.iloc[y2.index[0]:y2.index[-1],:].isin(np.array(new_customer['customer_id']))]\n",
    "    repeat_customer_2 = repeat_customer['customer_id'].dropna().unique()\n",
    "    n_2 = len(repeat_customer['customer_id'].dropna()) + n_1\n",
    "    c_n_2 = len(np.unique(np.concatenate((repeat_customer_1,repeat_customer_2))))\n",
    "    \n",
    "    ### ---- 3rd month -----\n",
    "    y3 = df[df['processed_at'].str.contains(t[3])]\n",
    "    repeat_customer = df[df.iloc[y3.index[0]:y3.index[-1],:].isin(np.array(new_customer['customer_id']))]\n",
    "    repeat_customer_3 = repeat_customer['customer_id'].dropna().unique()\n",
    "    n_3 = len(repeat_customer['customer_id'].dropna()) + n_2\n",
    "    c_n_3 = len(np.unique(np.concatenate((repeat_customer_1,repeat_customer_2,repeat_customer_3))))\n",
    "                \n",
    "    ### ---- 4th month ------\n",
    "    y4 = df[df['processed_at'].str.contains(t[4])]\n",
    "    repeat_customer = df[df.iloc[y4.index[0]:y4.index[-1],:].isin(np.array(new_customer['customer_id']))]\n",
    "    repeat_customer_4 = repeat_customer['customer_id'].dropna().unique()\n",
    "    n_4 = len(repeat_customer['customer_id'].dropna()) + n_3\n",
    "    c_n_4 = len(np.unique(np.concatenate((repeat_customer_1,repeat_customer_2,repeat_customer_3,repeat_customer_4))))           \n",
    "    \n",
    "    total_buy = n_t\n",
    "    probs = np.array([n_0/total_buy, n_1/total_buy, n_2/total_buy, n_3/total_buy, n_4/total_buy])\n",
    "    buying_freq = np.array([1.0, 1.0, 2.0, 3.0, 4.0])\n",
    "    w_avg = np.sum(np.multiply(probs,buying_freq))\n",
    "    out_df = pd.DataFrame({'Output':list([t[0], n_0/total_buy, n_1/total_buy, n_2/total_buy, n_3/total_buy, n_4/total_buy, w_avg])})\n",
    "    return out_df\n",
    "                "
   ]
  },
  {
   "cell_type": "code",
   "execution_count": 346,
   "metadata": {},
   "outputs": [],
   "source": [
    "df1 = pd.read_json(\"/Users/jesuis_monty/Downloads/data.json\")\n",
    "df1 = df1.sort_values(by = 'processed_at').reset_index()\n",
    "del df1['index']\n",
    "abc = repeat_buying(df1,'2020-10-01')"
   ]
  },
  {
   "cell_type": "code",
   "execution_count": 347,
   "metadata": {},
   "outputs": [
    {
     "data": {
      "text/html": [
       "<div>\n",
       "<style scoped>\n",
       "    .dataframe tbody tr th:only-of-type {\n",
       "        vertical-align: middle;\n",
       "    }\n",
       "\n",
       "    .dataframe tbody tr th {\n",
       "        vertical-align: top;\n",
       "    }\n",
       "\n",
       "    .dataframe thead th {\n",
       "        text-align: right;\n",
       "    }\n",
       "</style>\n",
       "<table border=\"1\" class=\"dataframe\">\n",
       "  <thead>\n",
       "    <tr style=\"text-align: right;\">\n",
       "      <th></th>\n",
       "      <th>Output</th>\n",
       "    </tr>\n",
       "  </thead>\n",
       "  <tbody>\n",
       "    <tr>\n",
       "      <th>0</th>\n",
       "      <td>2020-10</td>\n",
       "    </tr>\n",
       "    <tr>\n",
       "      <th>1</th>\n",
       "      <td>0.0647679</td>\n",
       "    </tr>\n",
       "    <tr>\n",
       "      <th>2</th>\n",
       "      <td>0.229419</td>\n",
       "    </tr>\n",
       "    <tr>\n",
       "      <th>3</th>\n",
       "      <td>0.296918</td>\n",
       "    </tr>\n",
       "    <tr>\n",
       "      <th>4</th>\n",
       "      <td>0.327741</td>\n",
       "    </tr>\n",
       "    <tr>\n",
       "      <th>5</th>\n",
       "      <td>0.34998</td>\n",
       "    </tr>\n",
       "    <tr>\n",
       "      <th>6</th>\n",
       "      <td>3.27117</td>\n",
       "    </tr>\n",
       "  </tbody>\n",
       "</table>\n",
       "</div>"
      ],
      "text/plain": [
       "      Output\n",
       "0    2020-10\n",
       "1  0.0647679\n",
       "2   0.229419\n",
       "3   0.296918\n",
       "4   0.327741\n",
       "5    0.34998\n",
       "6    3.27117"
      ]
     },
     "execution_count": 347,
     "metadata": {},
     "output_type": "execute_result"
    }
   ],
   "source": [
    "abc"
   ]
  },
  {
   "cell_type": "code",
   "execution_count": 14,
   "metadata": {},
   "outputs": [
    {
     "data": {
      "text/plain": [
       "1615746600"
      ]
     },
     "execution_count": 14,
     "metadata": {},
     "output_type": "execute_result"
    }
   ],
   "source": [
    "No_of_days = 90\n",
    "import time\n",
    "from datetime import date\n",
    "today = int(date.today().strftime('%s'))\n",
    "Days = No_of_days * 24 * 60 * 60\n",
    "imm_result = today - Days\n",
    "time.strftime('%Y-%m-%d %H:%M:%S', time.localtime(imm_result))"
   ]
  },
  {
   "cell_type": "code",
   "execution_count": null,
   "metadata": {},
   "outputs": [],
   "source": []
  }
 ],
 "metadata": {
  "kernelspec": {
   "display_name": "macos_environment",
   "language": "python",
   "name": "macos_environment"
  },
  "language_info": {
   "codemirror_mode": {
    "name": "ipython",
    "version": 3
   },
   "file_extension": ".py",
   "mimetype": "text/x-python",
   "name": "python",
   "nbconvert_exporter": "python",
   "pygments_lexer": "ipython3",
   "version": "3.8.2"
  }
 },
 "nbformat": 4,
 "nbformat_minor": 4
}

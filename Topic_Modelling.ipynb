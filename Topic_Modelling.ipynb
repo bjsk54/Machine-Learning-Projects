{
 "cells": [
  {
   "cell_type": "code",
   "execution_count": 5,
   "metadata": {},
   "outputs": [
    {
     "name": "stdout",
     "output_type": "stream",
     "text": [
      "Collecting selenium\n",
      "  Downloading selenium-3.141.0-py2.py3-none-any.whl (904 kB)\n",
      "\u001b[K     |████████████████████████████████| 904 kB 1.5 MB/s eta 0:00:01\n",
      "\u001b[?25hRequirement already satisfied: urllib3 in ./macos_env/lib/python3.8/site-packages (from selenium) (1.26.2)\n",
      "Installing collected packages: selenium\n",
      "Successfully installed selenium-3.141.0\n",
      "Note: you may need to restart the kernel to use updated packages.\n"
     ]
    }
   ],
   "source": [
    "pip install selenium"
   ]
  },
  {
   "cell_type": "code",
   "execution_count": 7,
   "metadata": {},
   "outputs": [
    {
     "name": "stdout",
     "output_type": "stream",
     "text": [
      "Requirement already satisfied: requests in ./macos_env/lib/python3.8/site-packages (2.25.1)\n",
      "Requirement already satisfied: certifi>=2017.4.17 in ./macos_env/lib/python3.8/site-packages (from requests) (2020.12.5)\n",
      "Requirement already satisfied: urllib3<1.27,>=1.21.1 in ./macos_env/lib/python3.8/site-packages (from requests) (1.26.2)\n",
      "Requirement already satisfied: idna<3,>=2.5 in ./macos_env/lib/python3.8/site-packages (from requests) (2.10)\n",
      "Requirement already satisfied: chardet<5,>=3.0.2 in ./macos_env/lib/python3.8/site-packages (from requests) (4.0.0)\n",
      "Note: you may need to restart the kernel to use updated packages.\n"
     ]
    }
   ],
   "source": [
    "pip install requests\n"
   ]
  },
  {
   "cell_type": "code",
   "execution_count": 8,
   "metadata": {},
   "outputs": [
    {
     "name": "stdout",
     "output_type": "stream",
     "text": [
      "Requirement already satisfied: urllib3 in ./macos_env/lib/python3.8/site-packages (1.26.2)\n",
      "Note: you may need to restart the kernel to use updated packages.\n"
     ]
    }
   ],
   "source": [
    "pip install urllib3"
   ]
  },
  {
   "cell_type": "code",
   "execution_count": 9,
   "metadata": {},
   "outputs": [
    {
     "name": "stdout",
     "output_type": "stream",
     "text": [
      "Collecting bs4\n",
      "  Downloading bs4-0.0.1.tar.gz (1.1 kB)\n",
      "Collecting beautifulsoup4\n",
      "  Downloading beautifulsoup4-4.9.3-py3-none-any.whl (115 kB)\n",
      "\u001b[K     |████████████████████████████████| 115 kB 1.1 MB/s eta 0:00:01\n",
      "\u001b[?25hCollecting soupsieve>1.2\n",
      "  Downloading soupsieve-2.2.1-py3-none-any.whl (33 kB)\n",
      "Building wheels for collected packages: bs4\n",
      "  Building wheel for bs4 (setup.py) ... \u001b[?25ldone\n",
      "\u001b[?25h  Created wheel for bs4: filename=bs4-0.0.1-py3-none-any.whl size=1273 sha256=9767e6192f9724ade193b6271f58e00f226de663d79dffadc498c3cbab27ae1c\n",
      "  Stored in directory: /Users/jesuis_monty/Library/Caches/pip/wheels/75/78/21/68b124549c9bdc94f822c02fb9aa3578a669843f9767776bca\n",
      "Successfully built bs4\n",
      "Installing collected packages: soupsieve, beautifulsoup4, bs4\n",
      "Successfully installed beautifulsoup4-4.9.3 bs4-0.0.1 soupsieve-2.2.1\n",
      "Note: you may need to restart the kernel to use updated packages.\n"
     ]
    }
   ],
   "source": [
    "pip install bs4"
   ]
  },
  {
   "cell_type": "code",
   "execution_count": 12,
   "metadata": {},
   "outputs": [
    {
     "name": "stdout",
     "output_type": "stream",
     "text": [
      "Collecting lxml\n",
      "  Downloading lxml-4.6.3-cp38-cp38-macosx_10_9_x86_64.whl (4.6 MB)\n",
      "\u001b[K     |████████████████████████████████| 4.6 MB 3.3 MB/s eta 0:00:01\n",
      "\u001b[?25hInstalling collected packages: lxml\n",
      "Successfully installed lxml-4.6.3\n",
      "Note: you may need to restart the kernel to use updated packages.\n"
     ]
    }
   ],
   "source": [
    "pip install lxml"
   ]
  },
  {
   "cell_type": "code",
   "execution_count": 449,
   "metadata": {},
   "outputs": [
    {
     "name": "stdout",
     "output_type": "stream",
     "text": [
      "Collecting wikipedia\n",
      "  Downloading wikipedia-1.4.0.tar.gz (27 kB)\n",
      "Requirement already satisfied: beautifulsoup4 in ./macos_env/lib/python3.8/site-packages (from wikipedia) (4.9.3)\n",
      "Requirement already satisfied: requests<3.0.0,>=2.0.0 in ./macos_env/lib/python3.8/site-packages (from wikipedia) (2.25.1)\n",
      "Requirement already satisfied: urllib3<1.27,>=1.21.1 in ./macos_env/lib/python3.8/site-packages (from requests<3.0.0,>=2.0.0->wikipedia) (1.26.2)\n",
      "Requirement already satisfied: certifi>=2017.4.17 in ./macos_env/lib/python3.8/site-packages (from requests<3.0.0,>=2.0.0->wikipedia) (2020.12.5)\n",
      "Requirement already satisfied: chardet<5,>=3.0.2 in ./macos_env/lib/python3.8/site-packages (from requests<3.0.0,>=2.0.0->wikipedia) (4.0.0)\n",
      "Requirement already satisfied: idna<3,>=2.5 in ./macos_env/lib/python3.8/site-packages (from requests<3.0.0,>=2.0.0->wikipedia) (2.10)\n",
      "Requirement already satisfied: soupsieve>1.2 in ./macos_env/lib/python3.8/site-packages (from beautifulsoup4->wikipedia) (2.2.1)\n",
      "Building wheels for collected packages: wikipedia\n",
      "  Building wheel for wikipedia (setup.py) ... \u001b[?25ldone\n",
      "\u001b[?25h  Created wheel for wikipedia: filename=wikipedia-1.4.0-py3-none-any.whl size=11686 sha256=4ec18809f0a71a18e61ff086aa821996c58c408ecb450de66709222d50314932\n",
      "  Stored in directory: /Users/jesuis_monty/Library/Caches/pip/wheels/07/93/05/72c05349177dca2e0ba31a33ba4f7907606f7ddef303517c6a\n",
      "Successfully built wikipedia\n",
      "Installing collected packages: wikipedia\n",
      "Successfully installed wikipedia-1.4.0\n",
      "Note: you may need to restart the kernel to use updated packages.\n"
     ]
    }
   ],
   "source": [
    "pip install wikipedia"
   ]
  },
  {
   "cell_type": "code",
   "execution_count": 1,
   "metadata": {},
   "outputs": [],
   "source": [
    "import pandas as pd\n",
    "import wikipedia\n",
    "from bs4 import BeautifulSoup\n",
    "import lxml\n",
    "import requests\n",
    "\n",
    "\n",
    "def wiki_scrape(topic): \n",
    "    df = pd.DataFrame(columns=['title', 'Paragraph'])\n",
    "    \n",
    "    # GET URL: Navigate to the main Topic and extract the list of topics/ articles mentioned in the list\n",
    "    page = requests.get('https://en.wikipedia.org/wiki/'+ str(topic.replace(' ','_'))) \n",
    "    page_content = BeautifulSoup(page.content, 'html.parser')\n",
    "    tag_list = page_content.find_all('li')\n",
    "    list_topic = []\n",
    "    for i in tag_list:\n",
    "        list_topic.append(i.string)\n",
    "    list_topic = [i for i in list_topic if i] \n",
    "    \n",
    "    # scrape webpage for every topic in the list_topic\n",
    "    for i in list_topic:\n",
    "        page = requests.get('https://en.wikipedia.org/wiki/' + i.replace(' ','_'))\n",
    "        soup = BeautifulSoup(page.content, 'html.parser')\n",
    "        tag = soup.find_all('p')\n",
    "        text = ''\n",
    "        for paragraph in tag:\n",
    "            text += paragraph.text\n",
    "        df = df.append({'title': str(soup.title.string) , 'Paragraph': str(text)}, ignore_index=True)  \n",
    "            \n",
    "    return df       "
   ]
  },
  {
   "cell_type": "markdown",
   "metadata": {},
   "source": [
    "### "
   ]
  },
  {
   "cell_type": "code",
   "execution_count": 2,
   "metadata": {},
   "outputs": [
    {
     "name": "stdout",
     "output_type": "stream",
     "text": [
      "Time:  544.635872333\n"
     ]
    }
   ],
   "source": [
    "import timeit\n",
    "start = timeit.default_timer()\n",
    "\n",
    "data_set = wiki_scrape('Machine Learning')\n",
    "\n",
    "stop = timeit.default_timer()\n",
    "print('Time: ', stop - start) "
   ]
  },
  {
   "cell_type": "code",
   "execution_count": 3,
   "metadata": {},
   "outputs": [],
   "source": [
    "data_set = data_set[data_set['Paragraph'].str.len()>250].reset_index()\n",
    "data_set.drop('index', axis=1,inplace = True)\n",
    "data_set['Paragraph']=data_set['Paragraph'].str.strip()\n",
    "data_set.drop_duplicates(inplace=True,ignore_index = True)"
   ]
  },
  {
   "cell_type": "markdown",
   "metadata": {},
   "source": [
    "## Topic Modelling: LDA"
   ]
  },
  {
   "cell_type": "code",
   "execution_count": 4,
   "metadata": {},
   "outputs": [
    {
     "data": {
      "text/html": [
       "<div>\n",
       "<style scoped>\n",
       "    .dataframe tbody tr th:only-of-type {\n",
       "        vertical-align: middle;\n",
       "    }\n",
       "\n",
       "    .dataframe tbody tr th {\n",
       "        vertical-align: top;\n",
       "    }\n",
       "\n",
       "    .dataframe thead th {\n",
       "        text-align: right;\n",
       "    }\n",
       "</style>\n",
       "<table border=\"1\" class=\"dataframe\">\n",
       "  <thead>\n",
       "    <tr style=\"text-align: right;\">\n",
       "      <th></th>\n",
       "      <th>title</th>\n",
       "      <th>Paragraph</th>\n",
       "    </tr>\n",
       "  </thead>\n",
       "  <tbody>\n",
       "    <tr>\n",
       "      <th>0</th>\n",
       "      <td>Anomaly detection - Wikipedia</td>\n",
       "      <td>In data analysis, anomaly detection (also outl...</td>\n",
       "    </tr>\n",
       "    <tr>\n",
       "      <th>1</th>\n",
       "      <td>Automated machine learning - Wikipedia</td>\n",
       "      <td>Automated machine learning (AutoML) is the pro...</td>\n",
       "    </tr>\n",
       "    <tr>\n",
       "      <th>2</th>\n",
       "      <td>Association rule learning - Wikipedia</td>\n",
       "      <td>Association rule learning is a rule-based mach...</td>\n",
       "    </tr>\n",
       "    <tr>\n",
       "      <th>3</th>\n",
       "      <td>Reinforcement learning - Wikipedia</td>\n",
       "      <td>Reinforcement learning (RL) is an area of mach...</td>\n",
       "    </tr>\n",
       "    <tr>\n",
       "      <th>4</th>\n",
       "      <td>Structured prediction - Wikipedia</td>\n",
       "      <td>Structured prediction or structured (output) l...</td>\n",
       "    </tr>\n",
       "    <tr>\n",
       "      <th>...</th>\n",
       "      <td>...</td>\n",
       "      <td>...</td>\n",
       "    </tr>\n",
       "    <tr>\n",
       "      <th>388</th>\n",
       "      <td>Wu Chinese - Wikipedia</td>\n",
       "      <td>Wu (Chinese character: 吳, Wu: [ŋŋ̍], Mandarin:...</td>\n",
       "    </tr>\n",
       "    <tr>\n",
       "      <th>389</th>\n",
       "      <td>Yue Chinese - Wikipedia</td>\n",
       "      <td>Yue (Cantonese pronunciation: [jyːt̚˧˥]) is a ...</td>\n",
       "    </tr>\n",
       "    <tr>\n",
       "      <th>390</th>\n",
       "      <td>Written Chinese - Wikipedia</td>\n",
       "      <td>Written Chinese (Chinese: 中文; pinyin: zhōngwén...</td>\n",
       "    </tr>\n",
       "    <tr>\n",
       "      <th>391</th>\n",
       "      <td>Privacy policy - Wikipedia</td>\n",
       "      <td>A privacy policy is a statement or legal docum...</td>\n",
       "    </tr>\n",
       "    <tr>\n",
       "      <th>392</th>\n",
       "      <td>Disclaimer - Wikipedia</td>\n",
       "      <td>A disclaimer is generally any statement intend...</td>\n",
       "    </tr>\n",
       "  </tbody>\n",
       "</table>\n",
       "<p>393 rows × 2 columns</p>\n",
       "</div>"
      ],
      "text/plain": [
       "                                      title  \\\n",
       "0             Anomaly detection - Wikipedia   \n",
       "1    Automated machine learning - Wikipedia   \n",
       "2     Association rule learning - Wikipedia   \n",
       "3        Reinforcement learning - Wikipedia   \n",
       "4         Structured prediction - Wikipedia   \n",
       "..                                      ...   \n",
       "388                  Wu Chinese - Wikipedia   \n",
       "389                 Yue Chinese - Wikipedia   \n",
       "390             Written Chinese - Wikipedia   \n",
       "391              Privacy policy - Wikipedia   \n",
       "392                  Disclaimer - Wikipedia   \n",
       "\n",
       "                                             Paragraph  \n",
       "0    In data analysis, anomaly detection (also outl...  \n",
       "1    Automated machine learning (AutoML) is the pro...  \n",
       "2    Association rule learning is a rule-based mach...  \n",
       "3    Reinforcement learning (RL) is an area of mach...  \n",
       "4    Structured prediction or structured (output) l...  \n",
       "..                                                 ...  \n",
       "388  Wu (Chinese character: 吳, Wu: [ŋŋ̍], Mandarin:...  \n",
       "389  Yue (Cantonese pronunciation: [jyːt̚˧˥]) is a ...  \n",
       "390  Written Chinese (Chinese: 中文; pinyin: zhōngwén...  \n",
       "391  A privacy policy is a statement or legal docum...  \n",
       "392  A disclaimer is generally any statement intend...  \n",
       "\n",
       "[393 rows x 2 columns]"
      ]
     },
     "execution_count": 4,
     "metadata": {},
     "output_type": "execute_result"
    }
   ],
   "source": [
    "data_set"
   ]
  },
  {
   "cell_type": "code",
   "execution_count": 1,
   "metadata": {},
   "outputs": [
    {
     "ename": "NameError",
     "evalue": "name 'data_set' is not defined",
     "output_type": "error",
     "traceback": [
      "\u001b[0;31m---------------------------------------------------------------------------\u001b[0m",
      "\u001b[0;31mNameError\u001b[0m                                 Traceback (most recent call last)",
      "\u001b[0;32m<ipython-input-1-3c6549d0a6f1>\u001b[0m in \u001b[0;36m<module>\u001b[0;34m\u001b[0m\n\u001b[1;32m      3\u001b[0m \u001b[0;31m# Remove punctuation\u001b[0m\u001b[0;34m\u001b[0m\u001b[0;34m\u001b[0m\u001b[0;34m\u001b[0m\u001b[0m\n\u001b[1;32m      4\u001b[0m \u001b[0mdata_set\u001b[0m\u001b[0;34m[\u001b[0m\u001b[0;34m'processed'\u001b[0m\u001b[0;34m]\u001b[0m \u001b[0;34m=\u001b[0m\u001b[0;31m \u001b[0m\u001b[0;31m\\\u001b[0m\u001b[0;34m\u001b[0m\u001b[0;34m\u001b[0m\u001b[0m\n\u001b[0;32m----> 5\u001b[0;31m \u001b[0mdata_set\u001b[0m\u001b[0;34m[\u001b[0m\u001b[0;34m'Paragraph'\u001b[0m\u001b[0;34m]\u001b[0m\u001b[0;34m.\u001b[0m\u001b[0mmap\u001b[0m\u001b[0;34m(\u001b[0m\u001b[0;32mlambda\u001b[0m \u001b[0mx\u001b[0m\u001b[0;34m:\u001b[0m \u001b[0mre\u001b[0m\u001b[0;34m.\u001b[0m\u001b[0msub\u001b[0m\u001b[0;34m(\u001b[0m\u001b[0;34mr'[,\\.!?]'\u001b[0m\u001b[0;34m,\u001b[0m \u001b[0;34m''\u001b[0m\u001b[0;34m,\u001b[0m \u001b[0mx\u001b[0m\u001b[0;34m)\u001b[0m\u001b[0;34m)\u001b[0m\u001b[0;34m\u001b[0m\u001b[0;34m\u001b[0m\u001b[0m\n\u001b[0m\u001b[1;32m      6\u001b[0m \u001b[0;31m# Convert the titles to lowercase\u001b[0m\u001b[0;34m\u001b[0m\u001b[0;34m\u001b[0m\u001b[0;34m\u001b[0m\u001b[0m\n\u001b[1;32m      7\u001b[0m \u001b[0mdata_set\u001b[0m\u001b[0;34m[\u001b[0m\u001b[0;34m'processed'\u001b[0m\u001b[0;34m]\u001b[0m \u001b[0;34m=\u001b[0m\u001b[0;31m \u001b[0m\u001b[0;31m\\\u001b[0m\u001b[0;34m\u001b[0m\u001b[0;34m\u001b[0m\u001b[0m\n",
      "\u001b[0;31mNameError\u001b[0m: name 'data_set' is not defined"
     ]
    }
   ],
   "source": [
    "# Load the regular expression library\n",
    "import re\n",
    "# Remove punctuation\n",
    "data_set['processed'] = \\\n",
    "data_set['Paragraph'].map(lambda x: re.sub('[,\\.!?]', '', x))\n",
    "# Convert the titles to lowercase\n",
    "data_set['processed'] = \\\n",
    "data_set['processed'].map(lambda x: x.lower())\n",
    "# Print out the first rows of papers\n",
    "data_set['processed'].head()"
   ]
  },
  {
   "cell_type": "code",
   "execution_count": 92,
   "metadata": {},
   "outputs": [
    {
     "data": {
      "text/html": [
       "<div>\n",
       "<style scoped>\n",
       "    .dataframe tbody tr th:only-of-type {\n",
       "        vertical-align: middle;\n",
       "    }\n",
       "\n",
       "    .dataframe tbody tr th {\n",
       "        vertical-align: top;\n",
       "    }\n",
       "\n",
       "    .dataframe thead th {\n",
       "        text-align: right;\n",
       "    }\n",
       "</style>\n",
       "<table border=\"1\" class=\"dataframe\">\n",
       "  <thead>\n",
       "    <tr style=\"text-align: right;\">\n",
       "      <th></th>\n",
       "      <th>title</th>\n",
       "      <th>Paragraph</th>\n",
       "      <th>processed</th>\n",
       "    </tr>\n",
       "  </thead>\n",
       "  <tbody>\n",
       "    <tr>\n",
       "      <th>0</th>\n",
       "      <td>Anomaly detection - Wikipedia</td>\n",
       "      <td>In data analysis, anomaly detection (also outl...</td>\n",
       "      <td>in data analysis anomaly detection (also outli...</td>\n",
       "    </tr>\n",
       "    <tr>\n",
       "      <th>1</th>\n",
       "      <td>Automated machine learning - Wikipedia</td>\n",
       "      <td>Automated machine learning (AutoML) is the pro...</td>\n",
       "      <td>automated machine learning (automl) is the pro...</td>\n",
       "    </tr>\n",
       "    <tr>\n",
       "      <th>2</th>\n",
       "      <td>Association rule learning - Wikipedia</td>\n",
       "      <td>Association rule learning is a rule-based mach...</td>\n",
       "      <td>association rule learning is a rule-based mach...</td>\n",
       "    </tr>\n",
       "    <tr>\n",
       "      <th>3</th>\n",
       "      <td>Reinforcement learning - Wikipedia</td>\n",
       "      <td>Reinforcement learning (RL) is an area of mach...</td>\n",
       "      <td>reinforcement learning (rl) is an area of mach...</td>\n",
       "    </tr>\n",
       "    <tr>\n",
       "      <th>4</th>\n",
       "      <td>Structured prediction - Wikipedia</td>\n",
       "      <td>Structured prediction or structured (output) l...</td>\n",
       "      <td>structured prediction or structured (output) l...</td>\n",
       "    </tr>\n",
       "    <tr>\n",
       "      <th>...</th>\n",
       "      <td>...</td>\n",
       "      <td>...</td>\n",
       "      <td>...</td>\n",
       "    </tr>\n",
       "    <tr>\n",
       "      <th>384</th>\n",
       "      <td>Wu Chinese - Wikipedia</td>\n",
       "      <td>Wu (Chinese character: 吳, Wu: [ŋŋ̍], Mandarin:...</td>\n",
       "      <td>wu (chinese character: 吳 wu: [ŋŋ̍] mandarin: [...</td>\n",
       "    </tr>\n",
       "    <tr>\n",
       "      <th>385</th>\n",
       "      <td>Yue Chinese - Wikipedia</td>\n",
       "      <td>Yue (Cantonese pronunciation: [jyːt̚˧˥]) is a ...</td>\n",
       "      <td>yue (cantonese pronunciation: [jyːt̚˧˥]) is a ...</td>\n",
       "    </tr>\n",
       "    <tr>\n",
       "      <th>386</th>\n",
       "      <td>Written Chinese - Wikipedia</td>\n",
       "      <td>Written Chinese (Chinese: 中文; pinyin: zhōngwén...</td>\n",
       "      <td>written chinese (chinese: 中文; pinyin: zhōngwén...</td>\n",
       "    </tr>\n",
       "    <tr>\n",
       "      <th>387</th>\n",
       "      <td>Privacy policy - Wikipedia</td>\n",
       "      <td>A privacy policy is a statement or legal docum...</td>\n",
       "      <td>a privacy policy is a statement or legal docum...</td>\n",
       "    </tr>\n",
       "    <tr>\n",
       "      <th>388</th>\n",
       "      <td>Disclaimer - Wikipedia</td>\n",
       "      <td>A disclaimer is generally any statement intend...</td>\n",
       "      <td>a disclaimer is generally any statement intend...</td>\n",
       "    </tr>\n",
       "  </tbody>\n",
       "</table>\n",
       "<p>389 rows × 3 columns</p>\n",
       "</div>"
      ],
      "text/plain": [
       "                                      title  \\\n",
       "0             Anomaly detection - Wikipedia   \n",
       "1    Automated machine learning - Wikipedia   \n",
       "2     Association rule learning - Wikipedia   \n",
       "3        Reinforcement learning - Wikipedia   \n",
       "4         Structured prediction - Wikipedia   \n",
       "..                                      ...   \n",
       "384                  Wu Chinese - Wikipedia   \n",
       "385                 Yue Chinese - Wikipedia   \n",
       "386             Written Chinese - Wikipedia   \n",
       "387              Privacy policy - Wikipedia   \n",
       "388                  Disclaimer - Wikipedia   \n",
       "\n",
       "                                             Paragraph  \\\n",
       "0    In data analysis, anomaly detection (also outl...   \n",
       "1    Automated machine learning (AutoML) is the pro...   \n",
       "2    Association rule learning is a rule-based mach...   \n",
       "3    Reinforcement learning (RL) is an area of mach...   \n",
       "4    Structured prediction or structured (output) l...   \n",
       "..                                                 ...   \n",
       "384  Wu (Chinese character: 吳, Wu: [ŋŋ̍], Mandarin:...   \n",
       "385  Yue (Cantonese pronunciation: [jyːt̚˧˥]) is a ...   \n",
       "386  Written Chinese (Chinese: 中文; pinyin: zhōngwén...   \n",
       "387  A privacy policy is a statement or legal docum...   \n",
       "388  A disclaimer is generally any statement intend...   \n",
       "\n",
       "                                             processed  \n",
       "0    in data analysis anomaly detection (also outli...  \n",
       "1    automated machine learning (automl) is the pro...  \n",
       "2    association rule learning is a rule-based mach...  \n",
       "3    reinforcement learning (rl) is an area of mach...  \n",
       "4    structured prediction or structured (output) l...  \n",
       "..                                                 ...  \n",
       "384  wu (chinese character: 吳 wu: [ŋŋ̍] mandarin: [...  \n",
       "385  yue (cantonese pronunciation: [jyːt̚˧˥]) is a ...  \n",
       "386  written chinese (chinese: 中文; pinyin: zhōngwén...  \n",
       "387  a privacy policy is a statement or legal docum...  \n",
       "388  a disclaimer is generally any statement intend...  \n",
       "\n",
       "[389 rows x 3 columns]"
      ]
     },
     "execution_count": 92,
     "metadata": {},
     "output_type": "execute_result"
    }
   ],
   "source": [
    "data_set"
   ]
  },
  {
   "cell_type": "code",
   "execution_count": 93,
   "metadata": {},
   "outputs": [
    {
     "data": {
      "image/png": "[encoded data removed]",
      "text/plain": [
       "<PIL.Image.Image image mode=RGB size=400x200 at 0x130C47F10>"
      ]
     },
     "execution_count": 93,
     "metadata": {},
     "output_type": "execute_result"
    }
   ],
   "source": [
    "# Import the wordcloud library\n",
    "from wordcloud import WordCloud\n",
    "# Join the different processed titles together.\n",
    "long_string = ','.join(list(data_set['processed'].values))\n",
    "# Create a WordCloud object\n",
    "wordcloud = WordCloud(background_color=\"white\", max_words=5000, contour_width=3, contour_color='steelblue')\n",
    "# Generate a word cloud\n",
    "wordcloud.generate(long_string)\n",
    "# Visualize the word cloud\n",
    "wordcloud.to_image()"
   ]
  },
  {
   "cell_type": "code",
   "execution_count": 54,
   "metadata": {},
   "outputs": [
    {
     "name": "stdout",
     "output_type": "stream",
     "text": [
      "Collecting gensim\n",
      "  Downloading gensim-4.0.1-cp38-cp38-macosx_10_9_x86_64.whl (23.9 MB)\n",
      "\u001b[K     |████████████████████████████████| 23.9 MB 371 kB/s eta 0:00:01     |███████████████████████▏        | 17.3 MB 246 kB/s eta 0:00:27\n",
      "\u001b[?25hCollecting smart-open>=1.8.1\n",
      "  Downloading smart_open-5.0.0-py3-none-any.whl (56 kB)\n",
      "\u001b[K     |████████████████████████████████| 56 kB 1.2 MB/s eta 0:00:01\n",
      "\u001b[?25hRequirement already satisfied: scipy>=0.18.1 in ./macos_env/lib/python3.8/site-packages (from gensim) (1.5.4)\n",
      "Requirement already satisfied: numpy>=1.11.3 in ./macos_env/lib/python3.8/site-packages (from gensim) (1.18.5)\n",
      "Installing collected packages: smart-open, gensim\n",
      "Successfully installed gensim-4.0.1 smart-open-5.0.0\n",
      "Note: you may need to restart the kernel to use updated packages.\n"
     ]
    }
   ],
   "source": [
    "pip install gensim"
   ]
  },
  {
   "cell_type": "code",
   "execution_count": 56,
   "metadata": {},
   "outputs": [
    {
     "name": "stdout",
     "output_type": "stream",
     "text": [
      "Collecting nltk\n",
      "  Downloading nltk-3.5.zip (1.4 MB)\n",
      "\u001b[K     |████████████████████████████████| 1.4 MB 792 kB/s eta 0:00:01\n",
      "\u001b[?25hCollecting click\n",
      "  Downloading click-7.1.2-py2.py3-none-any.whl (82 kB)\n",
      "\u001b[K     |████████████████████████████████| 82 kB 241 kB/s eta 0:00:01\n",
      "\u001b[?25hRequirement already satisfied: joblib in ./macos_env/lib/python3.8/site-packages (from nltk) (1.0.0)\n",
      "Collecting regex\n",
      "  Downloading regex-2021.4.4-cp38-cp38-macosx_10_9_x86_64.whl (284 kB)\n",
      "\u001b[K     |████████████████████████████████| 284 kB 2.5 MB/s eta 0:00:01\n",
      "\u001b[?25hCollecting tqdm\n",
      "  Downloading tqdm-4.59.0-py2.py3-none-any.whl (74 kB)\n",
      "\u001b[K     |████████████████████████████████| 74 kB 1.3 MB/s eta 0:00:01\n",
      "\u001b[?25hBuilding wheels for collected packages: nltk\n",
      "  Building wheel for nltk (setup.py) ... \u001b[?25ldone\n",
      "\u001b[?25h  Created wheel for nltk: filename=nltk-3.5-py3-none-any.whl size=1434676 sha256=5d1e01c00b79dd5f0577cf082478f76f35d8435fd66a4a638d079581e03576c0\n",
      "  Stored in directory: /Users/jesuis_monty/Library/Caches/pip/wheels/ff/d5/7b/f1fb4e1e1603b2f01c2424dd60fbcc50c12ef918bafc44b155\n",
      "Successfully built nltk\n",
      "Installing collected packages: tqdm, regex, click, nltk\n",
      "Successfully installed click-7.1.2 nltk-3.5 regex-2021.4.4 tqdm-4.59.0\n",
      "Note: you may need to restart the kernel to use updated packages.\n"
     ]
    }
   ],
   "source": [
    "pip install nltk"
   ]
  },
  {
   "cell_type": "code",
   "execution_count": 94,
   "metadata": {},
   "outputs": [
    {
     "name": "stderr",
     "output_type": "stream",
     "text": [
      "[nltk_data] Downloading package wordnet to\n",
      "[nltk_data]     /Users/jesuis_monty/nltk_data...\n",
      "[nltk_data]   Package wordnet is already up-to-date!\n"
     ]
    }
   ],
   "source": [
    "import gensim\n",
    "from gensim.utils import simple_preprocess\n",
    "from gensim.parsing.preprocessing import STOPWORDS\n",
    "from nltk.stem import WordNetLemmatizer, SnowballStemmer\n",
    "from nltk.stem.porter import *\n",
    "import numpy as np\n",
    "\n",
    "nltk.download('wordnet')\n",
    "\n",
    "'''\n",
    "Write a function to perform the pre processing steps on the entire dataset\n",
    "'''\n",
    "def lemmatize_stemming(text):\n",
    "    return stemmer.stem(WordNetLemmatizer().lemmatize(text, pos='v'))\n",
    "\n",
    "# Tokenize and lemmatize\n",
    "def preprocess(text):\n",
    "    result=[]\n",
    "    for token in gensim.utils.simple_preprocess(text) :\n",
    "        if token not in gensim.parsing.preprocessing.STOPWORDS and len(token) > 3:\n",
    "            result.append(lemmatize_stemming(token))\n",
    "            \n",
    "    return result"
   ]
  },
  {
   "cell_type": "code",
   "execution_count": 122,
   "metadata": {},
   "outputs": [],
   "source": [
    "stemmer = SnowballStemmer(\"english\")\n",
    "processed_docs = []\n",
    "for doc in data_set.processed:\n",
    "    processed_docs.append(preprocess(doc))"
   ]
  },
  {
   "cell_type": "code",
   "execution_count": 123,
   "metadata": {},
   "outputs": [],
   "source": [
    "'''\n",
    "Create a dictionary from 'processed_docs' containing the number of times a word appears \n",
    "in the training set using gensim.corpora.Dictionary and call it 'dictionary'\n",
    "'''\n",
    "dictionary = gensim.corpora.Dictionary(processed_docs)"
   ]
  },
  {
   "cell_type": "code",
   "execution_count": 97,
   "metadata": {},
   "outputs": [],
   "source": [
    "'''\n",
    "OPTIONAL STEP\n",
    "Remove very rare and very common words:\n",
    "\n",
    "- words appearing less than 15 times\n",
    "- words appearing in more than 10% of all documents\n",
    "'''\n",
    "dictionary.filter_extremes(no_below=15, no_above=0.1, keep_n= 100000)"
   ]
  },
  {
   "cell_type": "code",
   "execution_count": 98,
   "metadata": {},
   "outputs": [],
   "source": [
    "'''\n",
    "Create the Bag-of-words model for each document i.e for each document we create a dictionary reporting how many\n",
    "words and how many times those words appear. Save this to 'bow_corpus'\n",
    "'''\n",
    "bow_corpus = [dictionary.doc2bow(doc) for doc in processed_docs]"
   ]
  },
  {
   "cell_type": "code",
   "execution_count": 99,
   "metadata": {},
   "outputs": [
    {
     "name": "stdout",
     "output_type": "stream",
     "text": [
      "Word 14 (\"nois\") appears 1 time.\n",
      "Word 19 (\"runtim\") appears 3 time.\n",
      "Word 21 (\"threshold\") appears 1 time.\n",
      "Word 46 (\"exclud\") appears 1 time.\n",
      "Word 50 (\"hierarch\") appears 5 time.\n",
      "Word 63 (\"meaning\") appears 1 time.\n",
      "Word 73 (\"queri\") appears 5 time.\n",
      "Word 165 (\"closest\") appears 2 time.\n",
      "Word 178 (\"nearest\") appears 2 time.\n",
      "Word 179 (\"neighbor\") appears 3 time.\n",
      "Word 189 (\"densiti\") appears 6 time.\n",
      "Word 244 (\"acceler\") appears 2 time.\n",
      "Word 268 (\"peter\") appears 1 time.\n",
      "Word 289 (\"span\") appears 1 time.\n",
      "Word 316 (\"inspect\") appears 1 time.\n",
      "Word 329 (\"synthet\") appears 1 time.\n",
      "Word 344 (\"export\") appears 1 time.\n",
      "Word 373 (\"color\") appears 1 time.\n",
      "Word 452 (\"spatial\") appears 5 time.\n",
      "Word 498 (\"prioriti\") appears 2 time.\n",
      "Word 586 (\"border\") appears 1 time.\n",
      "Word 587 (\"optic\") appears 22 time.\n",
      "Word 588 (\"plot\") appears 8 time.\n",
      "Word 589 (\"python\") appears 1 time.\n",
      "Word 590 (\"queue\") appears 2 time.\n",
      "Word 591 (\"valley\") appears 5 time.\n"
     ]
    }
   ],
   "source": [
    "'''\n",
    "Preview BOW for our sample preprocessed document\n",
    "'''\n",
    "document_num = 20\n",
    "bow_doc_x = bow_corpus[document_num]\n",
    "\n",
    "for i in range(len(bow_doc_x)):\n",
    "    print(\"Word {} (\\\"{}\\\") appears {} time.\".format(bow_doc_x[i][0], \n",
    "                                                     dictionary[bow_doc_x[i][0]], \n",
    "                                                     bow_doc_x[i][1]))"
   ]
  },
  {
   "cell_type": "code",
   "execution_count": 128,
   "metadata": {},
   "outputs": [],
   "source": [
    "'''\n",
    "Train your lda model using gensim.models.LdaMulticore and save it to 'lda_model'\n",
    "'''\n",
    "# TODO\n",
    "lda_model =  gensim.models.LdaMulticore(bow_corpus, \n",
    "                                   num_topics = 10, \n",
    "                                   id2word = dictionary,                                    \n",
    "                                   passes = 10,\n",
    "                                   workers = 2)"
   ]
  },
  {
   "cell_type": "code",
   "execution_count": 129,
   "metadata": {},
   "outputs": [
    {
     "name": "stdout",
     "output_type": "stream",
     "text": [
      "Topic: 0 \n",
      "Words: 0.021*\"method\" + 0.019*\"implement\" + 0.012*\"notion\" + 0.009*\"intract\" + 0.008*\"neural\" + 0.007*\"data\" + 0.007*\"mathemat\" + 0.006*\"nonparametr\" + 0.005*\"second\" + 0.004*\"transduct\"\n",
      "\n",
      "\n",
      "Topic: 1 \n",
      "Words: 0.029*\"path\" + 0.012*\"tupl\" + 0.011*\"siames\" + 0.008*\"daniel\" + 0.008*\"paper\" + 0.007*\"episod\" + 0.007*\"candid\" + 0.006*\"joint\" + 0.006*\"overal\" + 0.005*\"hyperparamet\"\n",
      "\n",
      "\n",
      "Topic: 2 \n",
      "Words: 0.013*\"way\" + 0.013*\"region\" + 0.010*\"ratsabi\" + 0.010*\"fulli\" + 0.010*\"infant\" + 0.009*\"tree\" + 0.009*\"constrain\" + 0.009*\"work\" + 0.008*\"describ\" + 0.008*\"ident\"\n",
      "\n",
      "\n",
      "Topic: 3 \n",
      "Words: 0.058*\"nearest\" + 0.025*\"speak\" + 0.013*\"threshold\" + 0.013*\"start\" + 0.009*\"semi\" + 0.008*\"maxim\" + 0.007*\"bay\" + 0.007*\"domain\" + 0.007*\"quick\" + 0.006*\"iri\"\n",
      "\n",
      "\n",
      "Topic: 4 \n",
      "Words: 0.043*\"maintain\" + 0.022*\"hard\" + 0.019*\"intersect\" + 0.013*\"mechan\" + 0.013*\"engag\" + 0.012*\"parallel\" + 0.010*\"commerci\" + 0.008*\"emb\" + 0.008*\"discov\" + 0.007*\"return\"\n",
      "\n",
      "\n",
      "Topic: 5 \n",
      "Words: 0.014*\"effect\" + 0.013*\"ldot\" + 0.011*\"call\" + 0.010*\"systemat\" + 0.008*\"saul\" + 0.007*\"intend\" + 0.007*\"identif\" + 0.007*\"magnum\" + 0.006*\"assum\" + 0.005*\"end\"\n",
      "\n",
      "\n",
      "Topic: 6 \n",
      "Words: 0.016*\"import\" + 0.013*\"challeng\" + 0.012*\"greater\" + 0.009*\"literatur\" + 0.008*\"algorithm\" + 0.008*\"negat\" + 0.008*\"altern\" + 0.008*\"stronger\" + 0.007*\"micro\" + 0.007*\"agraw\"\n",
      "\n",
      "\n",
      "Topic: 7 \n",
      "Words: 0.040*\"swarm\" + 0.039*\"thank\" + 0.026*\"incorpor\" + 0.013*\"coat\" + 0.011*\"network\" + 0.008*\"thorough\" + 0.006*\"iter\" + 0.006*\"circumst\" + 0.006*\"certain\" + 0.006*\"role\"\n",
      "\n",
      "\n",
      "Topic: 8 \n",
      "Words: 0.058*\"boundari\" + 0.041*\"paradigm\" + 0.014*\"choos\" + 0.013*\"vein\" + 0.011*\"transduct\" + 0.009*\"instruct\" + 0.008*\"subtre\" + 0.008*\"proxi\" + 0.008*\"tree\" + 0.007*\"matrix\"\n",
      "\n",
      "\n",
      "Topic: 9 \n",
      "Words: 0.023*\"appli\" + 0.015*\"lift\" + 0.015*\"optim\" + 0.012*\"construct\" + 0.012*\"everyday\" + 0.011*\"categori\" + 0.010*\"opus\" + 0.008*\"infrequ\" + 0.008*\"real\" + 0.008*\"abus\"\n",
      "\n",
      "\n"
     ]
    }
   ],
   "source": [
    "'''\n",
    "For each topic, we will explore the words occuring in that topic and its relative weight\n",
    "'''\n",
    "for idx, topic in lda_model.print_topics(-1):\n",
    "    print(\"Topic: {} \\nWords: {}\".format(idx, topic ))\n",
    "    print(\"\\n\")"
   ]
  }
 ],
 "metadata": {
  "kernelspec": {
   "display_name": "macos_environment",
   "language": "python",
   "name": "macos_environment"
  },
  "language_info": {
   "codemirror_mode": {
    "name": "ipython",
    "version": 3
   },
   "file_extension": ".py",
   "mimetype": "text/x-python",
   "name": "python",
   "nbconvert_exporter": "python",
   "pygments_lexer": "ipython3",
   "version": "3.8.2"
  }
 },
 "nbformat": 4,
 "nbformat_minor": 4
}
